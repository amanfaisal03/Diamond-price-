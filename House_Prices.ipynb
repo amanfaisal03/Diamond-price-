{
  "metadata": {
    "kernelspec": {
      "language": "python",
      "display_name": "Python 3",
      "name": "python3"
    },
    "language_info": {
      "name": "python",
      "version": "3.10.13",
      "mimetype": "text/x-python",
      "codemirror_mode": {
        "name": "ipython",
        "version": 3
      },
      "pygments_lexer": "ipython3",
      "nbconvert_exporter": "python",
      "file_extension": ".py"
    },
    "kaggle": {
      "accelerator": "none",
      "dataSources": [
        {
          "sourceId": 5407,
          "databundleVersionId": 868283,
          "sourceType": "competition"
        }
      ],
      "dockerImageVersionId": 30646,
      "isInternetEnabled": true,
      "language": "python",
      "sourceType": "notebook",
      "isGpuEnabled": false
    },
    "colab": {
      "name": "House Prices",
      "provenance": []
    }
  },
  "nbformat_minor": 0,
  "nbformat": 4,
  "cells": [
    {
      "source": [
        "\n",
        "# IMPORTANT: RUN THIS CELL IN ORDER TO IMPORT YOUR KAGGLE DATA SOURCES\n",
        "# TO THE CORRECT LOCATION (/kaggle/input) IN YOUR NOTEBOOK,\n",
        "# THEN FEEL FREE TO DELETE THIS CELL.\n",
        "# NOTE: THIS NOTEBOOK ENVIRONMENT DIFFERS FROM KAGGLE'S PYTHON\n",
        "# ENVIRONMENT SO THERE MAY BE MISSING LIBRARIES USED BY YOUR\n",
        "# NOTEBOOK.\n",
        "\n",
        "import os\n",
        "import sys\n",
        "from tempfile import NamedTemporaryFile\n",
        "from urllib.request import urlopen\n",
        "from urllib.parse import unquote, urlparse\n",
        "from urllib.error import HTTPError\n",
        "from zipfile import ZipFile\n",
        "import tarfile\n",
        "import shutil\n",
        "\n",
        "CHUNK_SIZE = 40960\n",
        "DATA_SOURCE_MAPPING = 'house-prices-advanced-regression-techniques:https%3A%2F%2Fstorage.googleapis.com%2Fkaggle-competitions-data%2Fkaggle-v2%2F5407%2F868283%2Fbundle%2Farchive.zip%3FX-Goog-Algorithm%3DGOOG4-RSA-SHA256%26X-Goog-Credential%3Dgcp-kaggle-com%2540kaggle-161607.iam.gserviceaccount.com%252F20240702%252Fauto%252Fstorage%252Fgoog4_request%26X-Goog-Date%3D20240702T112352Z%26X-Goog-Expires%3D259200%26X-Goog-SignedHeaders%3Dhost%26X-Goog-Signature%3D1497bb56af07df73300ef546f1075f9c376a5314de24535df360ce41be592ae89b2b6f1c145a452a9853cbf497e10039e246c455dd51ba963a00e6fbc47c6b286f962cb55dbf413b80066f7668a3581ff57adfacbfd28de90c2dda8bc0adc7b658196ba1447d089009a384a8c18ef84b3e4bf4d3138fae0f00fa335fbb9b41bed1c9008559761de3379cd001c42484c0d9700cac3ed9b7c6f205dea74ae7a724f2e5a852e2907c9149b57becd86093ac7b648f9a14bc77c06e966e5b5e86e5ebb26feeac33c2b2c99ff8da03e2d35f094d1ac7ea7f42002a1c87c17a27287dec0884ae9575fa647b538db914b2a40a3764c2914ddb5cc71bbc2a55184a2203a9'\n",
        "\n",
        "KAGGLE_INPUT_PATH='/kaggle/input'\n",
        "KAGGLE_WORKING_PATH='/kaggle/working'\n",
        "KAGGLE_SYMLINK='kaggle'\n",
        "\n",
        "!umount /kaggle/input/ 2> /dev/null\n",
        "shutil.rmtree('/kaggle/input', ignore_errors=True)\n",
        "os.makedirs(KAGGLE_INPUT_PATH, 0o777, exist_ok=True)\n",
        "os.makedirs(KAGGLE_WORKING_PATH, 0o777, exist_ok=True)\n",
        "\n",
        "try:\n",
        "  os.symlink(KAGGLE_INPUT_PATH, os.path.join(\"..\", 'input'), target_is_directory=True)\n",
        "except FileExistsError:\n",
        "  pass\n",
        "try:\n",
        "  os.symlink(KAGGLE_WORKING_PATH, os.path.join(\"..\", 'working'), target_is_directory=True)\n",
        "except FileExistsError:\n",
        "  pass\n",
        "\n",
        "for data_source_mapping in DATA_SOURCE_MAPPING.split(','):\n",
        "    directory, download_url_encoded = data_source_mapping.split(':')\n",
        "    download_url = unquote(download_url_encoded)\n",
        "    filename = urlparse(download_url).path\n",
        "    destination_path = os.path.join(KAGGLE_INPUT_PATH, directory)\n",
        "    try:\n",
        "        with urlopen(download_url) as fileres, NamedTemporaryFile() as tfile:\n",
        "            total_length = fileres.headers['content-length']\n",
        "            print(f'Downloading {directory}, {total_length} bytes compressed')\n",
        "            dl = 0\n",
        "            data = fileres.read(CHUNK_SIZE)\n",
        "            while len(data) > 0:\n",
        "                dl += len(data)\n",
        "                tfile.write(data)\n",
        "                done = int(50 * dl / int(total_length))\n",
        "                sys.stdout.write(f\"\\r[{'=' * done}{' ' * (50-done)}] {dl} bytes downloaded\")\n",
        "                sys.stdout.flush()\n",
        "                data = fileres.read(CHUNK_SIZE)\n",
        "            if filename.endswith('.zip'):\n",
        "              with ZipFile(tfile) as zfile:\n",
        "                zfile.extractall(destination_path)\n",
        "            else:\n",
        "              with tarfile.open(tfile.name) as tarfile:\n",
        "                tarfile.extractall(destination_path)\n",
        "            print(f'\\nDownloaded and uncompressed: {directory}')\n",
        "    except HTTPError as e:\n",
        "        print(f'Failed to load (likely expired) {download_url} to path {destination_path}')\n",
        "        continue\n",
        "    except OSError as e:\n",
        "        print(f'Failed to load {download_url} to path {destination_path}')\n",
        "        continue\n",
        "\n",
        "print('Data source import complete.')\n"
      ],
      "metadata": {
        "id": "3_MEHru1L9jp"
      },
      "cell_type": "code",
      "outputs": [],
      "execution_count": null
    },
    {
      "cell_type": "code",
      "source": [
        "import pandas as pd\n",
        "import numpy as np\n",
        "from scipy import stats\n",
        "import matplotlib.pyplot as plt\n",
        "import seaborn as sns\n",
        "from sklearn.model_selection import train_test_split, GridSearchCV, cross_val_score\n",
        "from sklearn.compose import make_column_transformer, ColumnTransformer\n",
        "from sklearn.pipeline import Pipeline, make_pipeline\n",
        "from sklearn.impute import SimpleImputer\n",
        "from sklearn.preprocessing import OrdinalEncoder, StandardScaler, OneHotEncoder\n",
        "from sklearn.metrics import mean_squared_error\n",
        "from sklearn.ensemble import RandomForestRegressor, GradientBoostingRegressor, VotingRegressor, StackingRegressor\n",
        "from xgboost import XGBRegressor\n",
        "from catboost import CatBoostRegressor\n",
        "import lightgbm as lgb\n",
        "from sklearn.linear_model import LinearRegression\n",
        "from sklearn.model_selection import GridSearchCV, KFold, cross_val_score\n",
        "from sklearn.tree import DecisionTreeRegressor\n",
        "from sklearn.svm import SVR\n",
        "from sklearn.neural_network import MLPRegressor\n",
        "from sklearn.metrics import mean_absolute_error , mean_squared_error,r2_score\n",
        "from sklearn.ensemble import RandomForestRegressor"
      ],
      "metadata": {
        "_uuid": "8f2839f25d086af736a60e9eeb907d3b93b6e0e5",
        "_cell_guid": "b1076dfc-b9ad-4769-8c92-a6c4dae69d19",
        "execution": {
          "iopub.status.busy": "2024-06-26T15:14:10.644177Z",
          "iopub.execute_input": "2024-06-26T15:14:10.644985Z",
          "iopub.status.idle": "2024-06-26T15:14:10.652591Z",
          "shell.execute_reply.started": "2024-06-26T15:14:10.644946Z",
          "shell.execute_reply": "2024-06-26T15:14:10.651451Z"
        },
        "trusted": true,
        "id": "f5416VyEL9jv"
      },
      "execution_count": null,
      "outputs": []
    },
    {
      "cell_type": "code",
      "source": [
        "data_train=pd.read_csv(\"/kaggle/input/house-prices-advanced-regression-techniques/train.csv\")\n",
        "data_test=pd.read_csv(\"/kaggle/input/house-prices-advanced-regression-techniques/test.csv\")"
      ],
      "metadata": {
        "execution": {
          "iopub.status.busy": "2024-06-26T15:14:10.654364Z",
          "iopub.execute_input": "2024-06-26T15:14:10.654956Z",
          "iopub.status.idle": "2024-06-26T15:14:10.710411Z",
          "shell.execute_reply.started": "2024-06-26T15:14:10.654911Z",
          "shell.execute_reply": "2024-06-26T15:14:10.70941Z"
        },
        "trusted": true,
        "id": "2jvO7yCvL9jw"
      },
      "execution_count": null,
      "outputs": []
    },
    {
      "cell_type": "code",
      "source": [
        "# data_train.drop(['Id'], axis=1, inplace = True)\n",
        "# data_test.drop(['Id'], axis=1, inplace = True)"
      ],
      "metadata": {
        "execution": {
          "iopub.status.busy": "2024-06-26T15:14:10.712476Z",
          "iopub.execute_input": "2024-06-26T15:14:10.712804Z",
          "iopub.status.idle": "2024-06-26T15:14:10.717145Z",
          "shell.execute_reply.started": "2024-06-26T15:14:10.712773Z",
          "shell.execute_reply": "2024-06-26T15:14:10.716154Z"
        },
        "trusted": true,
        "id": "skEfU_dcL9jx"
      },
      "execution_count": null,
      "outputs": []
    },
    {
      "cell_type": "code",
      "source": [
        "data_train.head()"
      ],
      "metadata": {
        "execution": {
          "iopub.status.busy": "2024-06-26T15:14:10.718336Z",
          "iopub.execute_input": "2024-06-26T15:14:10.71865Z"
        },
        "trusted": true,
        "id": "6WOBVVYBL9jx"
      },
      "execution_count": null,
      "outputs": []
    },
    {
      "cell_type": "code",
      "source": [
        "data_train.columns"
      ],
      "metadata": {
        "trusted": true,
        "id": "NPTaW_KUL9jx"
      },
      "execution_count": null,
      "outputs": []
    },
    {
      "cell_type": "code",
      "source": [
        "data_train.shape"
      ],
      "metadata": {
        "trusted": true,
        "id": "GlGTytmVL9jy"
      },
      "execution_count": null,
      "outputs": []
    },
    {
      "cell_type": "code",
      "source": [
        "data_train.describe()\n",
        "# just the numercal feature .\n",
        "# in the LotArea feature ----> have large std (maybe i have outliers)"
      ],
      "metadata": {
        "trusted": true,
        "id": "94J2HtkyL9jy"
      },
      "execution_count": null,
      "outputs": []
    },
    {
      "cell_type": "code",
      "source": [
        "data_num=data_train.columns[(data_train.dtypes == float) | (data_train.dtypes == int)]\n",
        "data_num"
      ],
      "metadata": {
        "trusted": true,
        "id": "SCFZ-oTTL9jy"
      },
      "execution_count": null,
      "outputs": []
    },
    {
      "cell_type": "code",
      "source": [
        "for i in data_num:\n",
        "    combine = pd.concat([data_train['SalePrice'], data_train[i]], axis=1)\n",
        "    combine.plot.scatter(x=i, y='SalePrice')\n",
        "    plt.title(f'Scatter plot between SalePrice and {i}')\n",
        "    plt.show()"
      ],
      "metadata": {
        "trusted": true,
        "id": "Y1KCyYrvL9jz"
      },
      "execution_count": null,
      "outputs": []
    },
    {
      "cell_type": "code",
      "source": [
        "data_train.query('LotFrontage>300')\n",
        "# i think this outlier\n",
        "# drop this outlier --- 935, 1299 .\n",
        "# the relation shape  is positve ."
      ],
      "metadata": {
        "trusted": true,
        "id": "wdSULwUGL9jz"
      },
      "execution_count": null,
      "outputs": []
    },
    {
      "cell_type": "code",
      "source": [
        "data_train.query('LotArea>55000')\n",
        "# 250,314,336,707\n",
        "# I'm not sure for this  1379 , 1299 ,  452"
      ],
      "metadata": {
        "trusted": true,
        "id": "M2I4EOJ8L9jz"
      },
      "execution_count": null,
      "outputs": []
    },
    {
      "cell_type": "code",
      "source": [
        "stats.zscore(data_train['LotArea']).sort_values().tail(10)\n",
        "# I want to identify values that significantly deviate from the mean, potentially indicating outliers .\n",
        "# large zscore --> 706 , 249 , 335 , 313 (maybe drop)"
      ],
      "metadata": {
        "trusted": true,
        "id": "KuNIXzXQL9j0"
      },
      "execution_count": null,
      "outputs": []
    },
    {
      "cell_type": "code",
      "source": [
        "data_train.query('OverallQual==10')\n",
        "# 524 maybe drop ."
      ],
      "metadata": {
        "trusted": true,
        "id": "WK5auF3fL9j3"
      },
      "execution_count": null,
      "outputs": []
    },
    {
      "cell_type": "code",
      "source": [
        "data_train.query('OverallCond==2')\n",
        "# 379 ---> drop ."
      ],
      "metadata": {
        "trusted": true,
        "id": "MppH-F1gL9j3"
      },
      "execution_count": null,
      "outputs": []
    },
    {
      "cell_type": "code",
      "source": [
        "data_train.query('OverallCond==5 & SalePrice> 700000')\n",
        "# 1183 ---> drop i think"
      ],
      "metadata": {
        "trusted": true,
        "id": "1tYG0HUtL9j3"
      },
      "execution_count": null,
      "outputs": []
    },
    {
      "cell_type": "code",
      "source": [
        "data_train.query('OverallCond==6 & SalePrice>700000')\n",
        "# 692"
      ],
      "metadata": {
        "trusted": true,
        "id": "gbuJiNZCL9j3"
      },
      "execution_count": null,
      "outputs": []
    },
    {
      "cell_type": "code",
      "source": [
        "data_train.query('YearBuilt<1900 & SalePrice >400000')\n",
        "# 186 ."
      ],
      "metadata": {
        "trusted": true,
        "id": "JgG3ap2qL9j4"
      },
      "execution_count": null,
      "outputs": []
    },
    {
      "cell_type": "code",
      "source": [
        "data_train.query('YearRemodAdd<1970 & SalePrice> 300000')\n",
        "# 314"
      ],
      "metadata": {
        "trusted": true,
        "id": "wVzciKrdL9j4"
      },
      "execution_count": null,
      "outputs": []
    },
    {
      "cell_type": "code",
      "source": [
        "data_train.query('MasVnrArea < 200 & SalePrice > 700000')\n",
        "# 1183\n"
      ],
      "metadata": {
        "trusted": true,
        "id": "Kk19O46TL9j4"
      },
      "execution_count": null,
      "outputs": []
    },
    {
      "cell_type": "code",
      "source": [
        "data_train.query('BsmtFinSF1>5000')\n",
        "# 1299"
      ],
      "metadata": {
        "trusted": true,
        "id": "NumO1xCcL9j4"
      },
      "execution_count": null,
      "outputs": []
    },
    {
      "cell_type": "code",
      "source": [
        "data_train.query('400<BsmtFinSF2<600 & SalePrice >500000')"
      ],
      "metadata": {
        "trusted": true,
        "id": "UFGMSwccL9j4"
      },
      "execution_count": null,
      "outputs": []
    },
    {
      "cell_type": "code",
      "source": [
        "data_train.query('TotalBsmtSF  > 6000')\n",
        "#1299"
      ],
      "metadata": {
        "trusted": true,
        "id": "8tGh2SFEL9j4"
      },
      "execution_count": null,
      "outputs": []
    },
    {
      "cell_type": "code",
      "source": [
        "data_train.query('`1stFlrSF` > 4000')\n",
        "#1299"
      ],
      "metadata": {
        "trusted": true,
        "id": "T2eaiTZIL9j4"
      },
      "execution_count": null,
      "outputs": []
    },
    {
      "cell_type": "code",
      "source": [
        "data_train.query('LowQualFinSF > 500')\n",
        "#186"
      ],
      "metadata": {
        "trusted": true,
        "id": "kt8q26GbL9j4"
      },
      "execution_count": null,
      "outputs": []
    },
    {
      "cell_type": "code",
      "source": [
        "data_train.query('GrLivArea>4400')\n",
        "# 524 , 1299"
      ],
      "metadata": {
        "trusted": true,
        "id": "gjXWP1uLL9j4"
      },
      "execution_count": null,
      "outputs": []
    },
    {
      "cell_type": "code",
      "source": [
        "data_train.query('BsmtFullBath==3')\n",
        "#739"
      ],
      "metadata": {
        "trusted": true,
        "id": "6-UZzjszL9j4"
      },
      "execution_count": null,
      "outputs": []
    },
    {
      "cell_type": "code",
      "source": [
        "data_train.query('BsmtHalfBath==2')\n",
        "#598 , 955"
      ],
      "metadata": {
        "trusted": true,
        "id": "TBDtS6rzL9j4"
      },
      "execution_count": null,
      "outputs": []
    },
    {
      "cell_type": "code",
      "source": [
        "data_train.query('BedroomAbvGr==8')\n",
        "#636"
      ],
      "metadata": {
        "trusted": true,
        "id": "_auFGMY9L9j4"
      },
      "execution_count": null,
      "outputs": []
    },
    {
      "cell_type": "code",
      "source": [
        "data_train.query('KitchenAbvGr==3 or KitchenAbvGr==0')\n",
        "# 49 , 810  , 995"
      ],
      "metadata": {
        "trusted": true,
        "id": "zT0RI_8aL9j5"
      },
      "execution_count": null,
      "outputs": []
    },
    {
      "cell_type": "code",
      "source": [
        "data_train.query('TotRmsAbvGrd==14 or TotRmsAbvGrd==2')\n",
        "# 534 ,636"
      ],
      "metadata": {
        "trusted": true,
        "id": "hTNn28DCL9j5"
      },
      "execution_count": null,
      "outputs": []
    },
    {
      "cell_type": "code",
      "source": [
        "data_train.query('GarageArea>1200')\n",
        "# 1062 , 1191 , 1299"
      ],
      "metadata": {
        "trusted": true,
        "id": "glTMj9mDL9j5"
      },
      "execution_count": null,
      "outputs": []
    },
    {
      "cell_type": "code",
      "source": [
        "data_train.query('OpenPorchSF> 500')\n",
        "#469"
      ],
      "metadata": {
        "trusted": true,
        "id": "h6lN8sh8L9j5"
      },
      "execution_count": null,
      "outputs": []
    },
    {
      "cell_type": "code",
      "source": [
        "data_train.query('EnclosedPorch >500')\n",
        "#198"
      ],
      "metadata": {
        "trusted": true,
        "id": "_sGF3zleL9j5"
      },
      "execution_count": null,
      "outputs": []
    },
    {
      "cell_type": "code",
      "source": [
        "outlier_values = [250,314,707,706,249,335,313,524,379,1183,335,313,524,379,1183,1299,441,692,186,441,739,598,955,636,49,810,995,534,1062,1191,469,198, 1338]\n",
        "data_train=data_train[data_train.Id.isin(outlier_values )==False]"
      ],
      "metadata": {
        "trusted": true,
        "id": "eMVunx6vL9j5"
      },
      "execution_count": null,
      "outputs": []
    },
    {
      "cell_type": "code",
      "source": [
        "ID=data_test['Id']\n",
        "data_train.drop(['Id'], axis=1, inplace = True)\n",
        "data_test.drop(['Id'], axis=1, inplace = True)"
      ],
      "metadata": {
        "trusted": true,
        "id": "W6XpfiiSL9j5"
      },
      "execution_count": null,
      "outputs": []
    },
    {
      "cell_type": "code",
      "source": [
        "missing_value=data_train.isnull().sum().sum()\n",
        "missing_value"
      ],
      "metadata": {
        "trusted": true,
        "id": "YQmcPMvvL9j5"
      },
      "execution_count": null,
      "outputs": []
    },
    {
      "cell_type": "code",
      "source": [
        "missing_value=data_train.isnull().sum().sort_values().tail(20)"
      ],
      "metadata": {
        "trusted": true,
        "id": "1gmEgcEDL9j5"
      },
      "execution_count": null,
      "outputs": []
    },
    {
      "cell_type": "code",
      "source": [
        "(missing_value[missing_value != 0] / data_train.shape[0]).sort_values(ascending=False)"
      ],
      "metadata": {
        "trusted": true,
        "id": "wL778Sf1L9j5"
      },
      "execution_count": null,
      "outputs": []
    },
    {
      "cell_type": "markdown",
      "source": [
        "i want to drop [poolqc, miscfeature , fence ,masvnrtype , fireplacequ ] ."
      ],
      "metadata": {
        "id": "bsWa_fGAL9j_"
      }
    },
    {
      "cell_type": "code",
      "source": [
        "feature_to_drop=['Alley','PoolQC','MiscFeature','Fence','MasVnrType','FireplaceQu']\n",
        "data_train.drop(columns=feature_to_drop,inplace=True)"
      ],
      "metadata": {
        "trusted": true,
        "id": "VXUQ6-aSL9kB"
      },
      "execution_count": null,
      "outputs": []
    },
    {
      "cell_type": "code",
      "source": [
        "data_train.shape"
      ],
      "metadata": {
        "trusted": true,
        "id": "sze08IaoL9kB"
      },
      "execution_count": null,
      "outputs": []
    },
    {
      "cell_type": "code",
      "source": [
        "data_train['LotFrontage'].unique()"
      ],
      "metadata": {
        "trusted": true,
        "id": "sI56zfsVL9kB"
      },
      "execution_count": null,
      "outputs": []
    },
    {
      "cell_type": "code",
      "source": [
        "mean_value=data_train['LotFrontage'].mean().round()"
      ],
      "metadata": {
        "trusted": true,
        "id": "mGNamKL-L9kB"
      },
      "execution_count": null,
      "outputs": []
    },
    {
      "cell_type": "code",
      "source": [
        "#data_train['LotFrontage'].fillna(69.0,inplace=True)\n",
        "#mode_value = data_train['LotFrontage'].mode().iloc[0]\n",
        "data_train[\"LotFrontage\"] = data_train[\"LotFrontage\"].fillna(mean_value)\n",
        "data_test['LotFrontage']=data_test['LotFrontage'].fillna(mean_value)\n"
      ],
      "metadata": {
        "trusted": true,
        "id": "INMBDNd0L9kB"
      },
      "execution_count": null,
      "outputs": []
    },
    {
      "cell_type": "code",
      "source": [
        "data_train['GarageType'].unique()"
      ],
      "metadata": {
        "trusted": true,
        "id": "xgm4U8pyL9kC"
      },
      "execution_count": null,
      "outputs": []
    },
    {
      "cell_type": "code",
      "source": [
        "data_train['GarageCond'].unique()"
      ],
      "metadata": {
        "trusted": true,
        "id": "9JKAa2nnL9kC"
      },
      "execution_count": null,
      "outputs": []
    },
    {
      "cell_type": "code",
      "source": [
        "#data_train['GarageCond'].fillna(data_train['GarageCond'].mode(),inplace=True)\n",
        "mode_value = data_train['GarageCond'].mode().iloc[0]\n",
        "data_train[\"GarageCond\"] = data_train[\"GarageCond\"].fillna(mode_value)\n"
      ],
      "metadata": {
        "trusted": true,
        "id": "zdWSdwtxL9kC"
      },
      "execution_count": null,
      "outputs": []
    },
    {
      "cell_type": "code",
      "source": [
        "data_train['GarageYrBlt'].unique()"
      ],
      "metadata": {
        "trusted": true,
        "id": "amxcZ7t0L9kC"
      },
      "execution_count": null,
      "outputs": []
    },
    {
      "cell_type": "code",
      "source": [
        "data_train['GarageYrBlt'].mode()"
      ],
      "metadata": {
        "trusted": true,
        "id": "vpUxRzTzL9kC"
      },
      "execution_count": null,
      "outputs": []
    },
    {
      "cell_type": "markdown",
      "source": [
        "have strong corralation between garageyrblt and yearbuilt ---> sooooo  i wnat to drop this feature"
      ],
      "metadata": {
        "id": "9Kotd8WyL9kC"
      }
    },
    {
      "cell_type": "code",
      "source": [
        "\n",
        "data_train['GarageYrBlt'].corr(data_train['YearBuilt'])"
      ],
      "metadata": {
        "trusted": true,
        "id": "Gs35RtDuL9kD"
      },
      "execution_count": null,
      "outputs": []
    },
    {
      "cell_type": "code",
      "source": [
        "data_train.drop(columns=['GarageYrBlt'], inplace=True)\n",
        "data_test.drop(columns=['GarageYrBlt'], inplace=True)"
      ],
      "metadata": {
        "trusted": true,
        "id": "SDaU_qMqL9kD"
      },
      "execution_count": null,
      "outputs": []
    },
    {
      "cell_type": "code",
      "source": [
        "#data_train['GarageType'].corr(data_train['GarageQual'])"
      ],
      "metadata": {
        "trusted": true,
        "id": "RZ7RukLTL9kD"
      },
      "execution_count": null,
      "outputs": []
    },
    {
      "cell_type": "code",
      "source": [
        "data_train['GarageFinish'].unique()"
      ],
      "metadata": {
        "trusted": true,
        "id": "F-1vzUG1L9kD"
      },
      "execution_count": null,
      "outputs": []
    },
    {
      "cell_type": "code",
      "source": [
        "mode_value = data_train['GarageFinish'].mode().iloc[0]\n",
        "data_train[\"GarageFinish\"] = data_train[\"GarageFinish\"].fillna(mode_value)\n",
        "data_test['GarageFinish']=data_test['GarageFinish'].fillna(mode_value)"
      ],
      "metadata": {
        "trusted": true,
        "id": "p9mxep82L9kD"
      },
      "execution_count": null,
      "outputs": []
    },
    {
      "cell_type": "code",
      "source": [
        "data_train.isnull().sum().sum()"
      ],
      "metadata": {
        "trusted": true,
        "id": "5bYc9DAcL9kD"
      },
      "execution_count": null,
      "outputs": []
    },
    {
      "cell_type": "code",
      "source": [
        "data_train['GarageQual'].unique()"
      ],
      "metadata": {
        "trusted": true,
        "id": "4wpJc8GuL9kD"
      },
      "execution_count": null,
      "outputs": []
    },
    {
      "cell_type": "code",
      "source": [
        "mode_value = data_train['GarageQual'].mode().iloc[0]\n",
        "data_train[\"GarageQual\"] = data_train[\"GarageQual\"].fillna(mode_value)\n",
        "data_test['GarageQual']=data_test['GarageQual'].fillna(mode_value)\n"
      ],
      "metadata": {
        "trusted": true,
        "id": "b2GEWDHwL9kD"
      },
      "execution_count": null,
      "outputs": []
    },
    {
      "cell_type": "code",
      "source": [
        "data_train.isnull().sum().sum()"
      ],
      "metadata": {
        "trusted": true,
        "id": "52r9iibmL9kE"
      },
      "execution_count": null,
      "outputs": []
    },
    {
      "cell_type": "code",
      "source": [
        "mode_value = data_train['BsmtExposure'].mode().iloc[0]\n",
        "data_train[\"BsmtExposure\"] = data_train[\"BsmtExposure\"].fillna(mode_value)\n",
        "data_test['BsmtExposure']=data_test['BsmtExposure'].fillna(mode_value)"
      ],
      "metadata": {
        "trusted": true,
        "id": "aZWMGWlEL9kE"
      },
      "execution_count": null,
      "outputs": []
    },
    {
      "cell_type": "code",
      "source": [
        "mode_value = data_train['BsmtFinType2'].mode().iloc[0]\n",
        "data_train[\"BsmtFinType2\"] = data_train[\"BsmtFinType2\"].fillna(mode_value)\n",
        "data_test['BsmtFinType2']=data_train['BsmtFinType2'].fillna(mode_value)"
      ],
      "metadata": {
        "trusted": true,
        "id": "OYXEYABnL9kE"
      },
      "execution_count": null,
      "outputs": []
    },
    {
      "cell_type": "code",
      "source": [
        "mode_value = data_train['BsmtFinType1'].mode().iloc[0]\n",
        "data_train[\"BsmtFinType1\"] = data_train[\"BsmtFinType1\"].fillna(mode_value)\n",
        "data_train['BsmtFinType1']=data_test['BsmtFinType1'].fillna(mode_value)"
      ],
      "metadata": {
        "trusted": true,
        "id": "3T1RxlJML9kE"
      },
      "execution_count": null,
      "outputs": []
    },
    {
      "cell_type": "code",
      "source": [
        "mode_value = data_train['BsmtCond'].mode().iloc[0]\n",
        "data_train[\"BsmtCond\"] = data_train[\"BsmtCond\"].fillna(mode_value)\n",
        "data_test['BsmtCond']=data_train['BsmtCond'].fillna(mode_value)"
      ],
      "metadata": {
        "trusted": true,
        "id": "5phat303L9kE"
      },
      "execution_count": null,
      "outputs": []
    },
    {
      "cell_type": "code",
      "source": [
        "mode_value = data_train['BsmtQual'].mode().iloc[0]\n",
        "data_train[\"BsmtQual\"] = data_train[\"BsmtQual\"].fillna(mode_value)\n",
        "data_test['BsmtQual']=data_test['BsmtQual'].fillna(mode_value)"
      ],
      "metadata": {
        "trusted": true,
        "id": "KLdpXCnBL9kE"
      },
      "execution_count": null,
      "outputs": []
    },
    {
      "cell_type": "code",
      "source": [
        "data_train.drop(data_train[data_train['Electrical'].isnull()].index, inplace=True)\n",
        "data_test.drop(data_test[data_test['Electrical'].isnull()].index,inplace=True)"
      ],
      "metadata": {
        "trusted": true,
        "id": "GjjEhdX2L9kE"
      },
      "execution_count": null,
      "outputs": []
    },
    {
      "cell_type": "code",
      "source": [
        "mode_value = data_train['GarageType'].mode().iloc[0]\n",
        "data_train[\"GarageType\"] = data_train[\"GarageType\"].fillna(mode_value)"
      ],
      "metadata": {
        "trusted": true,
        "id": "Rl--iNbqL9kE"
      },
      "execution_count": null,
      "outputs": []
    },
    {
      "cell_type": "code",
      "source": [
        "mean_value=data_train['MasVnrArea'].mean().round()\n",
        "data_train[\"MasVnrArea\"] = data_train[\"MasVnrArea\"].fillna(mode_value)"
      ],
      "metadata": {
        "trusted": true,
        "id": "nHVsk-FqL9kE"
      },
      "execution_count": null,
      "outputs": []
    },
    {
      "cell_type": "code",
      "source": [
        "data_train.isnull().sum().sum()"
      ],
      "metadata": {
        "trusted": true,
        "id": "yMQzV5gdL9kF"
      },
      "execution_count": null,
      "outputs": []
    },
    {
      "cell_type": "code",
      "source": [
        "data_train.isnull().sum().sort_values().tail(10)"
      ],
      "metadata": {
        "trusted": true,
        "id": "7x_CkDbmL9kF"
      },
      "execution_count": null,
      "outputs": []
    },
    {
      "cell_type": "code",
      "source": [
        "data_train['BsmtFinType1'].unique()"
      ],
      "metadata": {
        "trusted": true,
        "id": "_ugncslhL9kF"
      },
      "execution_count": null,
      "outputs": []
    },
    {
      "cell_type": "code",
      "source": [
        "data_train['BsmtFinType1'].mode()"
      ],
      "metadata": {
        "trusted": true,
        "id": "r81nYil0L9kF"
      },
      "execution_count": null,
      "outputs": []
    },
    {
      "cell_type": "code",
      "source": [
        "data_train['BsmtFinType1']=data_train['BsmtFinType1'].fillna(\"Unf\")\n",
        "data_test['BsmtFinType1']=data_test['BsmtFinType1'].fillna('Unf')"
      ],
      "metadata": {
        "trusted": true,
        "id": "QNMkGhE_L9kF"
      },
      "execution_count": null,
      "outputs": []
    },
    {
      "cell_type": "code",
      "source": [
        "data_train.isnull().sum().sum()"
      ],
      "metadata": {
        "trusted": true,
        "id": "n1kSCFZkL9kF"
      },
      "execution_count": null,
      "outputs": []
    },
    {
      "cell_type": "code",
      "source": [
        "data_train.shape"
      ],
      "metadata": {
        "trusted": true,
        "id": "vfw9B7hHL9kF"
      },
      "execution_count": null,
      "outputs": []
    },
    {
      "cell_type": "code",
      "source": [
        "data_train['Houseage']=data_train['YrSold']-data_train['YearBuilt']\n",
        "data_test['Houseage']=data_test['YrSold']-data_test['YearBuilt']"
      ],
      "metadata": {
        "trusted": true,
        "id": "_6FLR6nbL9kF"
      },
      "execution_count": null,
      "outputs": []
    },
    {
      "cell_type": "code",
      "source": [
        "data_train['Houseremodelage']=data_train['YrSold']-data_train['YearRemodAdd']\n",
        "data_test['Houseremodelage']=data_test['YrSold']-data_train['YearRemodAdd']"
      ],
      "metadata": {
        "trusted": true,
        "id": "Khdphxn9L9kF"
      },
      "execution_count": null,
      "outputs": []
    },
    {
      "cell_type": "code",
      "source": [
        "data_train['totalSF']=data_train['1stFlrSF']+data_train['2ndFlrSF']+data_train['BsmtFinSF1']+data_train['BsmtFinSF2']\n",
        "data_test['totalSF']=data_test['1stFlrSF']+data_test['2ndFlrSF']+data_test['BsmtFinSF1']+data_test['BsmtFinSF2']"
      ],
      "metadata": {
        "trusted": true,
        "id": "QE7Lcg2QL9kF"
      },
      "execution_count": null,
      "outputs": []
    },
    {
      "cell_type": "code",
      "source": [
        "data_train['totalarea']=data_train['GrLivArea']+data_train['TotalBsmtSF']\n",
        "data_test['totalarea']=data_test['GrLivArea']+data_test['TotalBsmtSF']\n"
      ],
      "metadata": {
        "trusted": true,
        "id": "hQwKGdt6L9kG"
      },
      "execution_count": null,
      "outputs": []
    },
    {
      "cell_type": "code",
      "source": [
        "data_train['totalbaths']=data_train['BsmtFullBath']+data_train['FullBath']+0.5*(data_train['BsmtFinSF2'])\n",
        "data_test['totalbaths']=data_test['BsmtFullBath']+data_test['FullBath']+0.5*(data_test['BsmtFinSF2'])"
      ],
      "metadata": {
        "trusted": true,
        "id": "UxIdVU5AL9kG"
      },
      "execution_count": null,
      "outputs": []
    },
    {
      "cell_type": "code",
      "source": [
        "data_train['totalporchsf']=data_train['OpenPorchSF']+data_train['EnclosedPorch']+data_train['ScreenPorch']\n",
        "data_test['totalporchsf']=data_test['OpenPorchSF']+data_test['EnclosedPorch']+data_test['ScreenPorch']\n"
      ],
      "metadata": {
        "trusted": true,
        "id": "ZZypF2LDL9kG"
      },
      "execution_count": null,
      "outputs": []
    },
    {
      "cell_type": "code",
      "source": [
        "data_train=data_train.drop(columns=['YrSold','YearBuilt','YearRemodAdd','1stFlrSF','2ndFlrSF','BsmtFinSF1','BsmtFinSF2','GrLivArea','TotalBsmtSF','BsmtFullBath','BsmtHalfBath','FullBath','HalfBath','OpenPorchSF','EnclosedPorch','3SsnPorch','ScreenPorch'])\n",
        "data_test=data_test.drop(columns=['YrSold','YearBuilt','YearRemodAdd','1stFlrSF','2ndFlrSF','BsmtFinSF1','BsmtFinSF2','GrLivArea','TotalBsmtSF','BsmtFullBath','BsmtHalfBath','FullBath','HalfBath','OpenPorchSF','EnclosedPorch','3SsnPorch','ScreenPorch'])"
      ],
      "metadata": {
        "trusted": true,
        "id": "Em1-oe1AL9kG"
      },
      "execution_count": null,
      "outputs": []
    },
    {
      "cell_type": "code",
      "source": [
        "data_train.shape"
      ],
      "metadata": {
        "trusted": true,
        "id": "G7XR9dUuL9kG"
      },
      "execution_count": null,
      "outputs": []
    },
    {
      "cell_type": "code",
      "source": [
        "correlation_matrix = data_train.corr(numeric_only=True)\n",
        "plt.figure(figsize=(20, 12))\n",
        "sns.heatmap(correlation_matrix, cmap='coolwarm',annot=True)\n",
        "plt.show()"
      ],
      "metadata": {
        "trusted": true,
        "id": "ld3rtp6JL9kG"
      },
      "execution_count": null,
      "outputs": []
    },
    {
      "cell_type": "code",
      "source": [
        "#GarageArea , GarageCars ---> have big corr ( drop one of them)\n",
        "# OverallQual ,SalePrice --> big corr  ( drop overallquall)\n",
        "#totalarea , totalsf --->  huge corr ()\n",
        "# totalarea , saleprise ---> huge corr  ()"
      ],
      "metadata": {
        "trusted": true,
        "id": "VHOrZ2ePL9kG"
      },
      "execution_count": null,
      "outputs": []
    },
    {
      "cell_type": "code",
      "source": [
        "feature_to_drop=['GarageCars','OverallQual']\n",
        "data_train.drop(columns=feature_to_drop,inplace=True)\n"
      ],
      "metadata": {
        "trusted": true,
        "id": "Ok32vqd6L9kG"
      },
      "execution_count": null,
      "outputs": []
    },
    {
      "cell_type": "code",
      "source": [
        "from scipy.stats import norm\n",
        "from scipy import stats\n",
        "sns.distplot(data_train['SalePrice'], fit=norm);\n",
        "fig = plt.figure()\n",
        "res = stats.probplot(data_train['SalePrice'], plot=plt)"
      ],
      "metadata": {
        "trusted": true,
        "id": "iF7rUsszL9kH"
      },
      "execution_count": null,
      "outputs": []
    },
    {
      "cell_type": "code",
      "source": [
        "data_train['SalePrice']=np.log(data_train['SalePrice'])"
      ],
      "metadata": {
        "trusted": true,
        "id": "DjXThd5gL9kH"
      },
      "execution_count": null,
      "outputs": []
    },
    {
      "cell_type": "code",
      "source": [
        "sns.distplot(data_train['SalePrice'], fit=norm);\n",
        "fig = plt.figure()\n",
        "res = stats.probplot(data_train['SalePrice'], plot=plt)"
      ],
      "metadata": {
        "trusted": true,
        "id": "0syyybtiL9kH"
      },
      "execution_count": null,
      "outputs": []
    },
    {
      "cell_type": "code",
      "source": [
        "object_data=data_train.columns[(data_train.dtypes == object) ]\n",
        "object_data"
      ],
      "metadata": {
        "trusted": true,
        "id": "szhx86j_L9kH"
      },
      "execution_count": null,
      "outputs": []
    },
    {
      "cell_type": "code",
      "source": [
        "# now i have more of object data ---> one hot encoding or order incodeing ."
      ],
      "metadata": {
        "trusted": true,
        "id": "dN2VHQtRL9kH"
      },
      "execution_count": null,
      "outputs": []
    },
    {
      "cell_type": "code",
      "source": [
        "unique_counts = {}\n",
        "for i in object_data:\n",
        "    unique_count = data_train[i].nunique()\n",
        "    unique_counts[i] = unique_count\n",
        "print(\"Number of unique values in each feature:\")\n",
        "for column, count in unique_counts.items():\n",
        "    print(f\"{column}: {count}\")"
      ],
      "metadata": {
        "trusted": true,
        "id": "q-K9mab6L9kH"
      },
      "execution_count": null,
      "outputs": []
    },
    {
      "cell_type": "code",
      "source": [
        "order_enco=['LotShape', 'LandContour','Utilities','LandSlope',  'BsmtQual',  'BsmtFinType1',  'CentralAir',  'Functional',\n",
        "     'GarageFinish', 'GarageQual', 'PavedDrive', 'ExterCond', 'KitchenQual', 'BsmtExposure', 'HeatingQC','ExterQual', 'BsmtCond']"
      ],
      "metadata": {
        "trusted": true,
        "id": "y7UHyCSNL9kH"
      },
      "execution_count": null,
      "outputs": []
    },
    {
      "cell_type": "code",
      "source": [
        "from sklearn.preprocessing import OrdinalEncoder\n",
        "encoder = OrdinalEncoder()\n",
        "data_train [order_enco] = encoder.fit_transform(data_train[order_enco])\n",
        "data_test[order_enco]=encoder.fit_transform(data_test[order_enco])"
      ],
      "metadata": {
        "trusted": true,
        "id": "fbN2oI9TL9kH"
      },
      "execution_count": null,
      "outputs": []
    },
    {
      "cell_type": "code",
      "source": [
        "data_train['LotShape']"
      ],
      "metadata": {
        "trusted": true,
        "id": "1kk_IM8JL9kH"
      },
      "execution_count": null,
      "outputs": []
    },
    {
      "cell_type": "code",
      "source": [
        "#one_hot_enco=['Street','Neighborhood', 'Condition1', 'Condition2', 'BldgType', 'HouseStyle', 'RoofStyle', 'Exterior1st', 'Exterior2nd','Foundation',  'Electrical',  'SaleType', 'MSZoning', 'SaleCondition', 'Heating', 'GarageType', 'RoofMatl']"
      ],
      "metadata": {
        "trusted": true,
        "id": "VhIjdXzuL9kH"
      },
      "execution_count": null,
      "outputs": []
    },
    {
      "cell_type": "code",
      "source": [
        "ohe_cols = ['Street', 'LotConfig','Neighborhood', 'Condition1', 'Condition2', 'BldgType', 'HouseStyle', 'RoofStyle', 'Exterior1st', 'Exterior2nd', \\\n",
        "           'Foundation',  'Electrical',  'SaleType', 'MSZoning', 'SaleCondition', 'Heating', 'GarageType', 'RoofMatl']"
      ],
      "metadata": {
        "trusted": true,
        "id": "YGJtGIKZL9kH"
      },
      "execution_count": null,
      "outputs": []
    },
    {
      "cell_type": "code",
      "source": [
        "data_train[ohe_cols].head()"
      ],
      "metadata": {
        "trusted": true,
        "id": "iB6WJZo8L9kH"
      },
      "execution_count": null,
      "outputs": []
    },
    {
      "cell_type": "code",
      "source": [
        "from sklearn.preprocessing import OneHotEncoder\n",
        "ohe_cols = ['Street', 'LotConfig', 'Neighborhood', 'Condition1', 'Condition2', 'BldgType', 'HouseStyle',\n",
        "            'RoofStyle', 'Exterior1st', 'Exterior2nd',  'Foundation', 'Electrical',\n",
        "            'SaleType', 'MSZoning', 'SaleCondition', 'Heating', 'GarageType', 'RoofMatl','BsmtFinType2','GarageCond']\n",
        "for i in ohe_cols:\n",
        "    dummies = pd.get_dummies(data_train[i], prefix=i)  # Get one-hot encoded DataFrame for the current column\n",
        "    data_train = pd.concat([data_train, dummies], axis=1)  # Concatenate the one-hot encoded DataFrame with data_train\n",
        "    data_train.drop(columns=[i], inplace=True)  # Drop the original column from data_train\n",
        "for i in ohe_cols:\n",
        "    dummies=pd.get_dummies(data_test[i],prefix=i)\n",
        "    data_test=pd.concat([data_test,dummies],axis=1)\n",
        "    data_test.drop(columns=[i],inplace=True)"
      ],
      "metadata": {
        "trusted": true,
        "id": "WpRvx9uTL9kI"
      },
      "execution_count": null,
      "outputs": []
    },
    {
      "cell_type": "code",
      "source": [
        "data_train.dtypes[data_train.dtypes =='object']"
      ],
      "metadata": {
        "trusted": true,
        "id": "p-4P5yvyL9kI"
      },
      "execution_count": null,
      "outputs": []
    },
    {
      "cell_type": "code",
      "source": [
        "data_train['MasVnrArea'].unique()"
      ],
      "metadata": {
        "trusted": true,
        "id": "q0RtUmgWL9kI"
      },
      "execution_count": null,
      "outputs": []
    },
    {
      "cell_type": "code",
      "source": [
        "data_train['MasVnrArea'].values.tolist().count('Attchd')"
      ],
      "metadata": {
        "trusted": true,
        "id": "xdBOTVBtL9kI"
      },
      "execution_count": null,
      "outputs": []
    },
    {
      "cell_type": "code",
      "source": [
        "# ok i have 8 attchd ---> i can drop it or replace it  .\n",
        "if 'Attchd' in data_train['MasVnrArea'].values:\n",
        "    data_train['MasVnrArea'] = data_train['MasVnrArea'].replace('Attchd', 150)\n",
        "#data_train['MasVnrArea'] = data_train['MasVnrArea'].replace('Attchd',int(150))"
      ],
      "metadata": {
        "trusted": true,
        "id": "QKdnpM7dL9kI"
      },
      "execution_count": null,
      "outputs": []
    },
    {
      "cell_type": "code",
      "source": [
        "#data_train['MasVnrArea'].unique()"
      ],
      "metadata": {
        "trusted": true,
        "id": "ec3Jbzk-L9kI"
      },
      "execution_count": null,
      "outputs": []
    },
    {
      "cell_type": "code",
      "source": [
        "X = data_train.drop('SalePrice', axis=1)\n",
        "y = data_train['SalePrice']"
      ],
      "metadata": {
        "trusted": true,
        "id": "01KqxDPJL9kI"
      },
      "execution_count": null,
      "outputs": []
    },
    {
      "cell_type": "code",
      "source": [
        "X"
      ],
      "metadata": {
        "trusted": true,
        "id": "vAj9zMWDL9kI"
      },
      "execution_count": null,
      "outputs": []
    },
    {
      "cell_type": "code",
      "source": [
        "y"
      ],
      "metadata": {
        "trusted": true,
        "id": "cSSw1VsML9kI"
      },
      "execution_count": null,
      "outputs": []
    },
    {
      "cell_type": "code",
      "source": [
        "X_train, X_test, y_train, y_test = train_test_split(X, y, random_state=42, shuffle=True, test_size=0.2)\n",
        "sc = StandardScaler()\n",
        "X_train = sc.fit_transform(X_train)\n",
        "X_test = sc.transform(X_test)\n",
        "X_test"
      ],
      "metadata": {
        "trusted": true,
        "id": "NHWVK_GmL9kI"
      },
      "execution_count": null,
      "outputs": []
    },
    {
      "cell_type": "code",
      "source": [
        "X_train.astype"
      ],
      "metadata": {
        "trusted": true,
        "id": "9WGu2_jyL9kI"
      },
      "execution_count": null,
      "outputs": []
    },
    {
      "cell_type": "code",
      "source": [
        "X_train=pd.DataFrame(X_train)\n",
        "X_test=pd.DataFrame(X_test)\n",
        "y_train=pd.DataFrame(y_train)\n",
        "y_test=pd.DataFrame(y_test)"
      ],
      "metadata": {
        "trusted": true,
        "id": "MYdgF7RoL9kJ"
      },
      "execution_count": null,
      "outputs": []
    },
    {
      "cell_type": "code",
      "source": [
        "X_train"
      ],
      "metadata": {
        "trusted": true,
        "id": "h08EwnaFL9kJ"
      },
      "execution_count": null,
      "outputs": []
    },
    {
      "cell_type": "code",
      "source": [
        "#data_test"
      ],
      "metadata": {
        "trusted": true,
        "id": "ulTsvwssL9kJ"
      },
      "execution_count": null,
      "outputs": []
    },
    {
      "cell_type": "code",
      "source": [
        "data_train_n = pd.concat([X_train, y_train], axis=1)\n",
        "data_train_t = pd.concat([X_test, y_test], axis=1)"
      ],
      "metadata": {
        "trusted": true,
        "id": "X_rm10pHL9kJ"
      },
      "execution_count": null,
      "outputs": []
    },
    {
      "cell_type": "code",
      "source": [
        "data_train=pd.concat([data_train_n,data_train_t])"
      ],
      "metadata": {
        "trusted": true,
        "id": "aDQe9L6DL9kJ"
      },
      "execution_count": null,
      "outputs": []
    },
    {
      "cell_type": "code",
      "source": [
        "data_train.shape"
      ],
      "metadata": {
        "trusted": true,
        "id": "yW-tSei4L9kJ"
      },
      "execution_count": null,
      "outputs": []
    },
    {
      "cell_type": "code",
      "source": [
        "data_test.head()"
      ],
      "metadata": {
        "trusted": true,
        "id": "LPvd3XNNL9kJ"
      },
      "execution_count": null,
      "outputs": []
    },
    {
      "cell_type": "code",
      "source": [
        "#data_train=sc.fit_transform(data_train)\n",
        "#data_test=sc.transform(data_test)"
      ],
      "metadata": {
        "trusted": true,
        "id": "I3v1F9jaL9kJ"
      },
      "execution_count": null,
      "outputs": []
    },
    {
      "cell_type": "code",
      "source": [
        "RFR = RandomForestRegressor(random_state=42)\n",
        "RFR.fit(X_train,y_train)\n",
        "y_pred=RFR.predict(X_test)\n",
        "print('mean absolute error is : ' ,mean_absolute_error(y_pred,y_test))\n",
        "print('mean square error is :',mean_squared_error(y_pred,y_test))\n",
        "print('r2_score is :',r2_score(y_pred,y_test))"
      ],
      "metadata": {
        "trusted": true,
        "id": "26AgqzWPL9kJ"
      },
      "execution_count": null,
      "outputs": []
    },
    {
      "cell_type": "code",
      "source": [
        "XGB = XGBRegressor(verbosity=0)\n",
        "XGB.fit(X_train,y_train)\n",
        "prediction=XGB.predict(X_test)\n",
        "print('mean absolute error is : ', mean_absolute_error(y_pred,y_test))\n",
        "print('mean square error is : ',mean_squared_error(y_pred,y_test))\n",
        "print('R2_score is :',r2_score(y_pred,y_test))"
      ],
      "metadata": {
        "trusted": true,
        "id": "-L3Jpd7FL9kJ"
      },
      "execution_count": null,
      "outputs": []
    },
    {
      "cell_type": "code",
      "source": [
        "rf_model = RandomForestRegressor(random_state=42)\n",
        "xgb_model = XGBRegressor(random_state=42)\n",
        "\n",
        "models = [ rf_model, xgb_model]\n",
        "model_names = [ 'Random Forest Regressor', 'XGBoost Regressor']\n",
        "\n",
        "for model, name in zip(models, model_names):\n",
        "    print(f\"Model: {name}\")\n",
        "\n",
        "    # Set the number of folds for cross-validation\n",
        "    num_folds = 5\n",
        "    kfold = KFold(n_splits=num_folds, shuffle=True, random_state=42)\n",
        "\n",
        "\n",
        "    cv_scores = cross_val_score(model, X, y, cv=kfold)\n",
        "\n",
        "    print(\"Cross-validation scores:\", cv_scores)\n",
        "    mean_score = cv_scores.mean()\n",
        "    std_dev_score = cv_scores.std()\n",
        "\n",
        "    print(f\"Mean CV score: {mean_score:.2f}\")\n",
        "    print(f\"Standard Deviation of CV scores: {std_dev_score:.2f}\")\n",
        "    print('\\n')"
      ],
      "metadata": {
        "trusted": true,
        "id": "m9OOQxMEL9kJ"
      },
      "execution_count": null,
      "outputs": []
    },
    {
      "cell_type": "code",
      "source": [
        "data_test.head()"
      ],
      "metadata": {
        "trusted": true,
        "id": "Zza_u60ZL9kK"
      },
      "execution_count": null,
      "outputs": []
    },
    {
      "cell_type": "code",
      "source": [
        "# import xgboost as xgb\n",
        "# import pandas as pd\n",
        "\n",
        "# # Assuming test is your DataFrame\n",
        "# test_df = data_test.fillna(0)\n",
        "\n",
        "# # Create an instance of XGBRegressor\n",
        "# model = xgb.XGBRegressor()\n",
        "\n",
        "# # Normally, you would train your model with training data here\n",
        "# # For example:\n",
        "# model.fit(X_train, y_train)\n",
        "\n",
        "# # Make predictions\n",
        "# y_pred = model.predict(test_df)\n",
        "\n",
        "# y_pred"
      ],
      "metadata": {
        "trusted": true,
        "id": "cK3_S4MjL9kK"
      },
      "execution_count": null,
      "outputs": []
    },
    {
      "cell_type": "code",
      "source": [
        "# ID=data_test['Id']\n",
        "data = {'ID':ID, 'Sale Price':prediction}\n",
        "sub = pd.DataFrame(data)\n",
        "sub.to_csv('submission.csv', index=False)"
      ],
      "metadata": {
        "trusted": true,
        "id": "mkZL8ZaRL9kK"
      },
      "execution_count": null,
      "outputs": []
    },
    {
      "cell_type": "code",
      "source": [],
      "metadata": {
        "id": "LO7S9mujL9kK"
      },
      "execution_count": null,
      "outputs": []
    }
  ]
}